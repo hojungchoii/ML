{
 "cells": [
  {
   "cell_type": "markdown",
   "metadata": {},
   "source": [
    "# 2장 K-Nearest Neighbors\n",
    "\n",
    "## 학습목표\n",
    "* K-최근접 이웃 알고리즘\n",
    "* 텍스트 파일로부터 데이터 불러오기 및 구문분석\n",
    "* 매스플롯라이브러리를 이용하여 scatter 플롯 생성\n",
    "* 수치형 값 정규화\n",
    "\n",
    "### 1. K-최근접 이웃 알고리즘 이란?\n",
    "* KNN 알고리즘은 분류가 되어 있지 않은 데이터(Test data)들을 분류된 데이터(Training data)들 중 가장 비슷한 속성을 가진 그룹으로 분류해 주는 방식이다. \\n 이 때 Test data와 모든 Training data\n"
   ]
  }
 ],
 "metadata": {
  "kernelspec": {
   "display_name": "Python 2",
   "language": "python",
   "name": "python2"
  },
  "language_info": {
   "codemirror_mode": {
    "name": "ipython",
    "version": 2
   },
   "file_extension": ".py",
   "mimetype": "text/x-python",
   "name": "python",
   "nbconvert_exporter": "python",
   "pygments_lexer": "ipython2",
   "version": "2.7.11"
  }
 },
 "nbformat": 4,
 "nbformat_minor": 0
}
